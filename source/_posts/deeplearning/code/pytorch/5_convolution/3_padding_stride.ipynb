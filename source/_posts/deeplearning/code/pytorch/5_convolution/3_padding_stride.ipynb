{
 "cells": [
  {
   "cell_type": "markdown",
   "metadata": {},
   "source": [
    "---\n",
    "title: 5.3 填充和步幅\n",
    "date: 2024-4-21 10:00:00\n",
    "tags: [机器学习,pytorch]\n",
    "categories: [机器学习]\n",
    "comment: true\n",
    "toc: true\n",
    "---\n",
    "#  \n",
    "<!--more-->\n",
    "# 3 填充和步幅\n",
    "- 卷积的输出形状取决于输入形状和卷积核。\n",
    "- 填充：卷积后图像越来越小，会丢失原始图像的边界信息。\n",
    "- 步幅：我们希望大幅降低图像的高度和宽度。\n",
    "## 3.1 填充（padding）\n",
    "- 在输入图像的边界填充元素（通常是0）\n",
    "![](../../../../../../themes/yilia/source/img/deeplearning/code/pytorch/5_convolution/3_padding/1.png)\n",
    "![](img/deeplearning/code/pytorch/5_convolution/3_padding/1.png)\n",
    "- 通常卷积核的高度和宽度为奇数（如果为偶数，则上下填充的层数会差1）\n",
    "- 对于任何二维张量X，当：\n",
    "    - 卷积核大小为奇数\n",
    "    - 所有边的padding层数相等\n",
    "    - 输出与输入具有相同高度和宽度\n",
    "    \n",
    "    有：输出Y[i,j]是通过以输入X[i,j]为中心，与卷积核进行互相关计算得到的。"
   ]
  },
  {
   "cell_type": "code",
   "execution_count": 5,
   "metadata": {},
   "outputs": [
    {
     "name": "stdout",
     "output_type": "stream",
     "text": [
      "torch.Size([8, 8])\n"
     ]
    }
   ],
   "source": [
    "import torch\n",
    "from torch import nn\n",
    "\n",
    "def comp_conv2d(conv2d, X):\n",
    "    X = X.reshape((1,1) + X.shape) #(1,1): 扩展两个维度：batch和channel。得到(1,1,8,8)\n",
    "    Y = conv2d(X)\n",
    "    return Y.reshape(Y.shape[2:]) #省略前两个维度：batch和channel\n",
    "conv2d = nn.Conv2d(1,1,kernel_size=3,padding=1)\n",
    "X = torch.rand(size=(8,8)) #输入8*8\n",
    "s = comp_conv2d(conv2d, X).shape #输出8*8\n",
    "print(s)"
   ]
  },
  {
   "cell_type": "markdown",
   "metadata": {},
   "source": [
    "- 当高度和宽度不同时，可以填充不同的高度和宽度，使用5*3的卷积核，高度宽度填充为2和1"
   ]
  },
  {
   "cell_type": "code",
   "execution_count": 6,
   "metadata": {},
   "outputs": [
    {
     "name": "stdout",
     "output_type": "stream",
     "text": [
      "torch.Size([8, 8])\n"
     ]
    }
   ],
   "source": [
    "conv2d = nn.Conv2d(1,1,kernel_size=(5,3),padding=(2,1))\n",
    "s = comp_conv2d(conv2d, X).shape\n",
    "print(s)"
   ]
  },
  {
   "cell_type": "markdown",
   "metadata": {},
   "source": [
    "## 3.2 步幅（stride）\n",
    "- 有时为了高效计算或是缩减采样次数\n",
    "- 卷积核每次滑动的行数和列数\n",
    "![](../../../../../../themes/yilia/source/img/deeplearning/code/pytorch/5_convolution/3_padding/2.png)\n",
    "![](img/deeplearning/code/pytorch/5_convolution/3_padding/2.png)\n",
    "- 输入：$n_h \\times n_w$，卷积核：$k_h \\times k_w$，填充：$p_h \\times p_w$，步幅：$s_h \\times s_w$\n",
    "- 输出：$o_h \\times o_w$，$o_h = \\lfloor \\frac{n_h + p_h - k_h}{s_h} + 1 \\rfloor$，$o_w = \\lfloor \\frac{n_w + p_w - k_w}{s_w} + 1 \\rfloor$\n",
    "- 如果我们设置了$p_h = k_h - 1$和$p_w = k_w - 1$\n",
    "    - 那么输出形状将简化为$\\lfloor \\frac{n_h + s_h - 1}{s_h} \\rfloor \\times \\lfloor \\frac{n_w + s_w - 1}{s_w} \\rfloor$\n",
    "    - 如果输入的高度和宽度（$n_h$和$n_w$）可以被步幅整除，那么输出：$\\frac{n_h}{s_h} \\times \\frac{n_w}{s_w}$\n",
    "- 实践中，我们很少使用不一致的padding和stride"
   ]
  },
  {
   "cell_type": "code",
   "execution_count": 8,
   "metadata": {},
   "outputs": [
    {
     "name": "stdout",
     "output_type": "stream",
     "text": [
      "torch.Size([4, 4])\n",
      "torch.Size([2, 2])\n"
     ]
    }
   ],
   "source": [
    "# 缩小一倍\n",
    "conv2d = nn.Conv2d(1,1,kernel_size=3,padding=1,stride=2)\n",
    "s = comp_conv2d(conv2d, X).shape\n",
    "print(s)\n",
    "\n",
    "conv2d = nn.Conv2d(1,1,kernel_size=(3,5),padding=(0,1),stride=(3,4))\n",
    "s = comp_conv2d(conv2d, X).shape\n",
    "print(s)"
   ]
  }
 ],
 "metadata": {
  "kernelspec": {
   "display_name": "d2l",
   "language": "python",
   "name": "python3"
  },
  "language_info": {
   "codemirror_mode": {
    "name": "ipython",
    "version": 3
   },
   "file_extension": ".py",
   "mimetype": "text/x-python",
   "name": "python",
   "nbconvert_exporter": "python",
   "pygments_lexer": "ipython3",
   "version": "3.9.18"
  }
 },
 "nbformat": 4,
 "nbformat_minor": 2
}

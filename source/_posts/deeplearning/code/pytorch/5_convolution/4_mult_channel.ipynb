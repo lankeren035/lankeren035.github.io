{
 "cells": [
  {
   "cell_type": "markdown",
   "metadata": {},
   "source": [
    "---\n",
    "title: 5.4 多输入多输出通道\n",
    "date: 2024-4-21 11:00:00\n",
    "tags: [机器学习,pytorch]\n",
    "categories: [机器学习]\n",
    "comment: true\n",
    "toc: true\n",
    "---\n",
    "#  \n",
    "<!--more-->\n",
    "# 4 多输入多输出通道\n",
    "## 4.1 多输入通道\n",
    "- 对每个通道分别进行互现观运算，然后按通道相加\n",
    "![](../../../../../../themes/yilia/source/img/deeplearning/code/pytorch/5_convolution/4_mult_channel/1.png)\n",
    "![](img/deeplearning/code/pytorch/5_convolution/4_mult_channel/1.png)\n",
    "\n"
   ]
  },
  {
   "cell_type": "code",
   "execution_count": 9,
   "metadata": {},
   "outputs": [
    {
     "name": "stdout",
     "output_type": "stream",
     "text": [
      "tensor([[ 56.,  72.],\n",
      "        [104., 120.]])\n"
     ]
    }
   ],
   "source": [
    "import torch\n",
    "from d2l import torch as d2l\n",
    "\n",
    "def corr2d_multi_in(X,K):\n",
    "    # 先遍历X和K的第0个维度（channel），再把它们加在一起\n",
    "    return sum(d2l.corr2d(x,k) for x,k in zip(X,K))\n",
    "\n",
    "# 验证上图\n",
    "X = torch.tensor([[[0.0,1.0,2.0],[3.0,4.0,5.0],[6.0,7.0,8.0]],\n",
    "                  [[1.0,2.0,3.0],[4.0,5.0,6.0],[7.0,8.0,9.0]]])\n",
    "K = torch.tensor([[[0.0,1.0],[2.0,3.0]],[[1.0,2.0],[3.0,4.0]]])\n",
    "y = corr2d_multi_in(X,K)\n",
    "print(y)"
   ]
  },
  {
   "cell_type": "markdown",
   "metadata": {},
   "source": [
    "## 4.2 多输出通道\n",
    "- 在流行的网络架构中，随着层数的加深，通常会增加输出通道的维数，通过减少空间分辨率以获得更大的通道深度。\n",
    "- 可以将每个通道看作对不同特征的响应。而现实可能更为复杂，因为每个通道不是独立学习的，而是为了共同使用而优化的。\n",
    "- 输入通道数$c_i$，输出通道数$c_o$\n",
    "    - 对于一个输入通道：卷积核：$c_i \\times k_h \\times k_w$，卷积后相加获得一个二维张量。\n",
    "    - 卷积核：$c_o \\times c_i \\times k_h \\times k_w$输出通道$c_o$"
   ]
  },
  {
   "cell_type": "code",
   "execution_count": 10,
   "metadata": {},
   "outputs": [
    {
     "name": "stdout",
     "output_type": "stream",
     "text": [
      "torch.Size([3, 2, 2, 2])\n",
      "tensor([[[ 56.,  72.],\n",
      "         [104., 120.]],\n",
      "\n",
      "        [[ 76., 100.],\n",
      "         [148., 172.]],\n",
      "\n",
      "        [[ 96., 128.],\n",
      "         [192., 224.]]])\n"
     ]
    }
   ],
   "source": [
    "def corr2d_multi_in_out(X,K):\n",
    "    # 迭代K的第0个维度，每次都对输入X执行互相关运算\n",
    "    # 最后将所有结果叠加在一起\n",
    "    return torch.stack([corr2d_multi_in(X,k) for k in K],0)\n",
    "K = torch.stack((K,K+1,K+2),0) #构造一个具有3输出通道的卷积核\n",
    "print(K.shape)\n",
    "s = corr2d_multi_in_out(X,K)\n",
    "print(s)"
   ]
  },
  {
   "cell_type": "markdown",
   "metadata": {},
   "source": [
    "## 4.3 1x1卷积层\n",
    "- 1x1卷积失去了卷积层特有的能力（在高度和宽度维度上，识别相邻元素间相互作用的能力。）其实1x1卷积的唯一计算发生在通道上。\n",
    "![](../../../../../../themes/yilia/source/img/deeplearning/code/pytorch/5_convolution/4_mult_channel/2.png)\n",
    "![](img/deeplearning/code/pytorch/5_convolution/4_mult_channel/2.png)\n",
    "- 可以将1x1卷积层看作在每个像素位置应用的全连接层，以$c_i$个输入值转换成$c_o$个输出。\n",
    "- 使用全连接层实现1x1卷积"
   ]
  },
  {
   "cell_type": "code",
   "execution_count": 11,
   "metadata": {},
   "outputs": [],
   "source": [
    "def corr2d_multi_in_out_1x1(X,K):\n",
    "    c_i, h, w = X.shape\n",
    "    c_o = K.shape[0]\n",
    "    X = X.reshape((c_i, h*w))\n",
    "    K = K.reshape((c_o,c_i))\n",
    "    # 全连接层中的矩阵乘法\n",
    "    Y = torch.matmul(K,X)\n",
    "    return Y.reshape((c_o,h,w))"
   ]
  },
  {
   "cell_type": "markdown",
   "metadata": {},
   "source": [
    "- 上述函数相当于corr2d_multi_in_out函数"
   ]
  },
  {
   "cell_type": "code",
   "execution_count": 13,
   "metadata": {},
   "outputs": [],
   "source": [
    "X = torch.normal(0,1,(3,3,3))\n",
    "K = torch.normal(0,1,(2,3,1,1))\n",
    "Y1 = corr2d_multi_in_out_1x1(X,K)\n",
    "Y2 = corr2d_multi_in_out(X,K)\n",
    "assert float(torch.abs(Y1 - Y2).sum()) < 1e-6"
   ]
  }
 ],
 "metadata": {
  "kernelspec": {
   "display_name": "d2l",
   "language": "python",
   "name": "python3"
  },
  "language_info": {
   "codemirror_mode": {
    "name": "ipython",
    "version": 3
   },
   "file_extension": ".py",
   "mimetype": "text/x-python",
   "name": "python",
   "nbconvert_exporter": "python",
   "pygments_lexer": "ipython3",
   "version": "3.9.18"
  }
 },
 "nbformat": 4,
 "nbformat_minor": 2
}

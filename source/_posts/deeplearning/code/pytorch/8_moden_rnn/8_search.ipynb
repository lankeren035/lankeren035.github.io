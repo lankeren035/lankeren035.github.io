{
 "cells": [
  {
   "cell_type": "markdown",
   "metadata": {},
   "source": [
    "---\n",
    "title: 8.8 束搜索\n",
    "date: 2024-5-10 11:00:00\n",
    "tags: [机器学习,pytorch]\n",
    "categories: [机器学习]\n",
    "comment: true\n",
    "toc: true\n",
    "---\n",
    "#  \n",
    "<!--more-->\n",
    "# 8 束搜索\n",
    "\n",
    "- 在任意时间步t′，解码器输出$y_ {t′}$的概率取决于时间步t′之前的输出子序列$y_ 1, \\ldots, y_ {t′−1}$和对输入序列的信息进行编码得到的上下文变量c。为了量化计算代价，用Y表示输出词表，其中包含“\\<eos>”，所以这个词汇集合的基数|Y|就是词表的大小。我们还将输出序列的最大词元数指定为T′。因此，我们的目标是从所有$O( |Y|^ {T′} )$个可能的输出序列中寻找理想的输出。当然，对于所有输出序列，在“\\<eos>”之后的部分（非本句）将在实际输出中丢弃。\n",
    "\n",
    "## 8.8.1 贪心搜索\n",
    "\n"
   ]
  }
 ],
 "metadata": {
  "language_info": {
   "name": "python"
  }
 },
 "nbformat": 4,
 "nbformat_minor": 2
}

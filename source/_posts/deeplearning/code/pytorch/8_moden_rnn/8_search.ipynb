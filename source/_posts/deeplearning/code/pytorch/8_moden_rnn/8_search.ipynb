{
 "cells": [
  {
   "cell_type": "markdown",
   "metadata": {},
   "source": [
    "---\n",
    "title: 8.8 束搜索\n",
    "date: 2024-5-10 11:00:00\n",
    "tags: [机器学习,pytorch]\n",
    "categories: [机器学习]\n",
    "comment: true\n",
    "toc: true\n",
    "---\n",
    "#  \n",
    "<!--more-->\n",
    "# 8 束搜索\n",
    "\n",
    "- 在任意时间步t′，解码器输出$y_ {t′}$的概率取决于时间步t′之前的输出子序列$y_ 1, \\ldots, y_ {t′−1}$和对输入序列的信息进行编码得到的上下文变量c。为了量化计算代价，用Y表示输出词表，其中包含“\\<eos>”，所以这个词汇集合的基数|Y|就是词表的大小。我们还将输出序列的最大词元数指定为T′。因此，我们的目标是从所有$O( |Y|^ {T′} )$个可能的输出序列中寻找理想的输出（假设输出词表大小是2，序列长度是2，那么可能序列就是2^2=4个）。当然，对于所有输出序列，在“\\<eos>”之后的部分（非本句）将在实际输出中丢弃。\n",
    "\n",
    "## 8.1 贪心搜索\n",
    "- 对于输出序列的每一时间步t′，我们都将基于贪心搜索从Y中找到具有最高条件概率的词元\n",
    "\n",
    "    - 输出序列的条件概率是 0.5×0.4×0.4×0.6 = 0.048\n",
    "    \n",
    "        ![](../../../../../../themes/yilia/source/img/deeplearning/code/pytorch/8_moden_rnn/8_search/1.png)\n",
    "        ![](img/deeplearning/code/pytorch/8_moden_rnn/8_search/1.png)\n",
    "\n",
    "- 现实中，最优序列（optimal sequence）应该是最大化$ \\prod_ {t′=1} ^ {T′} P(y_ {t′} | y_ 1, \\ldots, y_ {t′−1}, c) $的输出序列。贪心法无法保证。\n",
    "\n",
    "    - 因为在任意时间步t′，解码器输出$y_ {t′}$的概率取决于时间步t′之前的输出子序列$y_ 1, \\ldots, y_ {t′−1}$和对输入序列的信息进行编码得到的上下文变量c。所以当在第二个时间步选择第二高条件概率的词元时后面的概率会发生改变，导致整体概率改变\n",
    "\n",
    "    - 条件概率为 0.5 × 0.3 × 0.6 × 0.6 = 0.054\n",
    "\n",
    "        ![](../../../../../../themes/yilia/source/img/deeplearning/code/pytorch/8_moden_rnn/8_search/2.png)\n",
    "        ![](img/deeplearning/code/pytorch/8_moden_rnn/8_search/2.png)\n",
    "\n",
    "## 8.2 穷举搜索\n",
    "\n",
    "- 计算复杂度为$O( |Y|^ {T′} )$，在实践中不可行\n",
    "\n",
    "## 8.3 束搜索\n",
    "\n",
    "- 贪心与穷举的折中，贪心搜索的改进，它有一个超参数，名为束宽（beam size）k。在时间步1，我们选择具有最高条件概率的k个词元。然后从此开始一直分k叉树。最后从k|y|个序列中选择具有最高条件概率的k个序列。\n",
    "\n",
    "    ![](../../../../../../themes/yilia/source/img/deeplearning/code/pytorch/8_moden_rnn/8_search/3.png)\n",
    "    ![](img/deeplearning/code/pytorch/8_moden_rnn/8_search/3.png)"
   ]
  }
 ],
 "metadata": {
  "language_info": {
   "name": "python"
  }
 },
 "nbformat": 4,
 "nbformat_minor": 2
}

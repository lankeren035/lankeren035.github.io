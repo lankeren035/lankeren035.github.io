{
 "cells": [
  {
   "cell_type": "markdown",
   "metadata": {},
   "source": [
    "---\n",
    "title: 4.3 延后初始化\n",
    "date: 2024-4-20 14:00:00\n",
    "tags: [机器学习,pytorch]\n",
    "categories: [机器学习]\n",
    "comment: true\n",
    "toc: true\n",
    "---\n",
    "#\n",
    "<!--more-->\n",
    "# 3 延后初始化\n",
    "- 在上一节：\n",
    "    - 定义了网络架构，但没有指定输入维度\n",
    "    - 添加层时没有指定前一层的输出维度\n",
    "    - 在初始化参数时，没有足够的信息来确定模型应该包含多少参数\n",
    "- 框架的延后初始化（defers initialization）：知道数据第一次通过模型传递时，框架才会动态地推断出每个层的大小\n",
    "## 3.1 实例化网络\n",
    "。。。"
   ]
  }
 ],
 "metadata": {
  "language_info": {
   "name": "python"
  }
 },
 "nbformat": 4,
 "nbformat_minor": 2
}

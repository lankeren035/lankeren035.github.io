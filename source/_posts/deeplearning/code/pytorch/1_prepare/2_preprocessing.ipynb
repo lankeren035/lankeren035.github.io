{
 "cells": [
  {
   "cell_type": "markdown",
   "metadata": {},
   "source": [
    "---\n",
    "title: 1.2 pytorch数据预处理\n",
    "date: 2023-11-27 14:00:00\n",
    "tags: [机器学习,pytorch]\n",
    "categories: [机器学习]\n",
    "comment: false\n",
    "toc: true\n",
    "---\n",
    "######\n",
    "<!--more-->"
   ]
  },
  {
   "cell_type": "markdown",
   "metadata": {},
   "source": [
    "# 2. pytorch数据预处理\n",
    "- 主要通过pandas预处理"
   ]
  },
  {
   "cell_type": "markdown",
   "metadata": {},
   "source": [
    "## 2.1 读取数据集"
   ]
  },
  {
   "cell_type": "code",
   "execution_count": 1,
   "metadata": {},
   "outputs": [
    {
     "name": "stdout",
     "output_type": "stream",
     "text": [
      "   NumRooms  Alley   Price\n",
      "0       NaN   Pave  127500\n",
      "1       2.0    NaN  106000\n",
      "2       4.0    NaN  178100\n",
      "3       NaN    NaN   14000\n"
     ]
    }
   ],
   "source": [
    "# 1. 先自己准备一个数据集\n",
    "import os\n",
    "os.makedirs(os.path.join('..','data'),exist_ok=True)\n",
    "data_file=os.path.join('..','data','house_tiny.csv')\n",
    "with open(data_file,'w') as f:\n",
    "    f.write('NumRooms, Alley, Price\\n') #列名\n",
    "    f.write('NA,Pave, 127500\\n') #每行表示一个数据样本\n",
    "    f.write('2,NA, 106000\\n')\n",
    "    f.write('4,NA, 178100\\n')\n",
    "    f.write('NA,NA, 14000\\n')\n",
    "\n",
    "# 2. 读取数据集\n",
    "import pandas as pd\n",
    "data=pd.read_csv(data_file)\n",
    "print(data)"
   ]
  },
  {
   "cell_type": "markdown",
   "metadata": {},
   "source": [
    "## 2.2 缺失值处理\n",
    "- 删除\n",
    "- 插值"
   ]
  },
  {
   "cell_type": "markdown",
   "metadata": {},
   "source": [
    "### 2.2.1 数值类型"
   ]
  },
  {
   "cell_type": "code",
   "execution_count": 2,
   "metadata": {},
   "outputs": [
    {
     "name": "stdout",
     "output_type": "stream",
     "text": [
      "   NumRooms  Alley\n",
      "0       3.0   Pave\n",
      "1       2.0    NaN\n",
      "2       4.0    NaN\n",
      "3       3.0    NaN\n"
     ]
    }
   ],
   "source": [
    "# 1. 位置索引iloc将data分为输入与输出\n",
    "inputs=data.iloc[:,0:2] #前两列作为输入\n",
    "outputs=data.iloc[:,2] #第三列作为输出\n",
    "\n",
    "# 2. 用每一列的均值替换空值\n",
    "inputs=inputs.fillna(inputs.mean())\n",
    "print(inputs)"
   ]
  },
  {
   "cell_type": "markdown",
   "metadata": {},
   "source": [
    "### 2.2.2 类别类型或离散值\n",
    "- 将NaN视为一个类别，根据这一列类别的个数分出n列，每一列代表一个类别，如果该行的值为该列的类别，则为1，否则为0"
   ]
  },
  {
   "cell_type": "code",
   "execution_count": 3,
   "metadata": {},
   "outputs": [
    {
     "name": "stdout",
     "output_type": "stream",
     "text": [
      "   NumRooms   Alley_Pave   Alley_nan\n",
      "0       3.0            1           0\n",
      "1       2.0            0           1\n",
      "2       4.0            0           1\n",
      "3       3.0            0           1\n"
     ]
    }
   ],
   "source": [
    "inputs=pd.get_dummies(inputs, dummy_na=True)\n",
    "print(inputs)"
   ]
  },
  {
   "cell_type": "markdown",
   "metadata": {},
   "source": [
    "## 2.3 转换为张量\n",
    "- torch.tensor()"
   ]
  },
  {
   "cell_type": "code",
   "execution_count": 4,
   "metadata": {},
   "outputs": [
    {
     "data": {
      "text/plain": [
       "(tensor([[3., 1., 0.],\n",
       "         [2., 0., 1.],\n",
       "         [4., 0., 1.],\n",
       "         [3., 0., 1.]], dtype=torch.float64),\n",
       " tensor([127500., 106000., 178100.,  14000.], dtype=torch.float64))"
      ]
     },
     "execution_count": 4,
     "metadata": {},
     "output_type": "execute_result"
    }
   ],
   "source": [
    "import torch\n",
    "x=torch.tensor(inputs.to_numpy(dtype=float))\n",
    "y=torch.tensor(outputs.to_numpy(dtype=float))\n",
    "x,y"
   ]
  },
  {
   "cell_type": "markdown",
   "metadata": {},
   "source": [
    "## 练习\n",
    "- 1. 创建一个更多行和列的数据集\n"
   ]
  },
  {
   "cell_type": "code",
   "execution_count": 8,
   "metadata": {},
   "outputs": [
    {
     "name": "stdout",
     "output_type": "stream",
     "text": [
      "   NumRooms  Alley   Price   test\n",
      "0       NaN   Pave  127500      1\n",
      "1       2.0     NA  106000      0\n",
      "2       4.0     NA  178100      0\n",
      "3       NaN     NA  140000      1\n",
      "4       2.0   Pave  127500      0\n"
     ]
    }
   ],
   "source": [
    "import os\n",
    "os.makedirs(os.path.join('..','data'),exist_ok=True)\n",
    "data_file=os.path.join('..','data','house_tiny.csv')\n",
    "with open(data_file, 'w') as f:\n",
    "    f.write('NumRooms, Alley, Price, test\\n') # 列名\n",
    "    f.write('NA, Pave, 127500, 1\\n') # 每行表示一个数据样本\n",
    "    f.write('2, NA, 106000, 0\\n')\n",
    "    f.write('4, NA, 178100, 0\\n')\n",
    "    f.write('NA, NA, 140000, 1\\n')\n",
    "    f.write('2, Pave, 127500, 0\\n')\n",
    "\n",
    "#读取数据集\n",
    "import pandas as pd\n",
    "print(pd.read_csv(data_file))"
   ]
  },
  {
   "cell_type": "markdown",
   "metadata": {},
   "source": [
    "- 2. 删除缺失值最多的列"
   ]
  },
  {
   "cell_type": "code",
   "execution_count": 10,
   "metadata": {},
   "outputs": [
    {
     "name": "stdout",
     "output_type": "stream",
     "text": [
      "NumRooms    2\n",
      " Alley      0\n",
      " Price      0\n",
      " test       0\n",
      "dtype: int64\n",
      "NumRooms\n",
      "   Alley   Price   test\n",
      "0   Pave  127500      1\n",
      "1     NA  106000      0\n",
      "2     NA  178100      0\n",
      "3     NA  140000      1\n",
      "4   Pave  127500      0\n"
     ]
    }
   ],
   "source": [
    "#删除缺失值最多的列\n",
    "import pandas as pd\n",
    "data=pd.read_csv(data_file)\n",
    "\n",
    "#计算每一列的缺失值个数\n",
    "missing=data.isnull().sum() #按列求和\n",
    "print(missing)\n",
    "column=missing.idxmax() #返回缺失值最多的列名\n",
    "print(column)\n",
    "data=data.drop(columns=[column])\n",
    "print(data)\n",
    "\n",
    "#保存处理后的数据集\n",
    "data.to_csv(data_file,index=False) #index=False表示不保存行索引"
   ]
  },
  {
   "cell_type": "markdown",
   "metadata": {},
   "source": [
    "- 3. 将处理后的数据集转换为张量"
   ]
  },
  {
   "cell_type": "code",
   "execution_count": 20,
   "metadata": {},
   "outputs": [
    {
     "name": "stdout",
     "output_type": "stream",
     "text": [
      "   Alley   Price   test\n",
      "0   Pave  127500      1\n",
      "1     NA  106000      0\n",
      "2     NA  178100      0\n",
      "3     NA  140000      1\n",
      "4   Pave  127500      0\n",
      "(5, 3)\n",
      "    Price   test   Alley_ NA   Alley_ Pave   Alley_nan\n",
      "0  127500      1           0             1           0\n",
      "1  106000      0           1             0           0\n",
      "2  178100      0           1             0           0\n",
      "3  140000      1           1             0           0\n",
      "4  127500      0           0             1           0\n",
      "tensor([[1.2750e+05, 1.0000e+00, 0.0000e+00, 1.0000e+00, 0.0000e+00],\n",
      "        [1.0600e+05, 0.0000e+00, 1.0000e+00, 0.0000e+00, 0.0000e+00],\n",
      "        [1.7810e+05, 0.0000e+00, 1.0000e+00, 0.0000e+00, 0.0000e+00],\n",
      "        [1.4000e+05, 1.0000e+00, 1.0000e+00, 0.0000e+00, 0.0000e+00],\n",
      "        [1.2750e+05, 0.0000e+00, 0.0000e+00, 1.0000e+00, 0.0000e+00]],\n",
      "       dtype=torch.float64)\n"
     ]
    }
   ],
   "source": [
    "#将数据集转换为张量格式\n",
    "import torch\n",
    "import os\n",
    "data_file=os.path.join('..','data','house_tiny.csv')\n",
    "data=pd.read_csv(data_file)\n",
    "#输出data的shape\n",
    "print(data,data.shape,sep='\\n')\n",
    "\n",
    "#将字符串类型进行one-hot编码\n",
    "data=pd.get_dummies(data,dummy_na=True) #dummy_na=True表示将缺失值也当作合法的特征值并为其创建指示特征\n",
    "print(data)\n",
    "#将dataframe格式转换为张量格式\n",
    "data=torch.tensor(data.to_numpy(dtype=float))\n",
    "print(data)"
   ]
  }
 ],
 "metadata": {
  "kernelspec": {
   "display_name": "Python 3 (ipykernel)",
   "language": "python",
   "name": "python3"
  },
  "language_info": {
   "codemirror_mode": {
    "name": "ipython",
    "version": 3
   },
   "file_extension": ".py",
   "mimetype": "text/x-python",
   "name": "python",
   "nbconvert_exporter": "python",
   "pygments_lexer": "ipython3",
   "version": "3.9.18"
  }
 },
 "nbformat": 4,
 "nbformat_minor": 2
}

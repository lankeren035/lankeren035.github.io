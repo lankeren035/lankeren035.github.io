{
 "cells": [
  {
   "cell_type": "markdown",
   "metadata": {},
   "source": [
    "---\n",
    "title: 2.3 线性回归简洁实现\n",
    "date: 2024-2-3 14:00:00\n",
    "tags: [机器学习,pytorch]\n",
    "categories: [机器学习]\n",
    "comment: true\n",
    "toc: true\n",
    "---\n",
    "#  \n",
    "<!--more-->\n",
    "# 3 线性回归简洁实现"
   ]
  },
  {
   "cell_type": "code",
   "execution_count": 1,
   "metadata": {},
   "outputs": [
    {
     "name": "stdout",
     "output_type": "stream",
     "text": [
      "[tensor([[ 0.9365, -0.9840],\n",
      "        [ 0.9369,  1.5472],\n",
      "        [ 0.1462,  0.3326],\n",
      "        [-0.1900,  0.8358],\n",
      "        [ 1.1384, -1.4987],\n",
      "        [-0.4850, -0.8085],\n",
      "        [-2.1479, -0.8616],\n",
      "        [ 0.9232,  0.0479],\n",
      "        [ 0.3618, -0.7924],\n",
      "        [-1.2253,  0.1714]]), tensor([[ 9.4372],\n",
      "        [ 0.8145],\n",
      "        [ 3.3749],\n",
      "        [ 0.9582],\n",
      "        [11.5770],\n",
      "        [ 5.9775],\n",
      "        [ 2.8450],\n",
      "        [ 5.8905],\n",
      "        [ 7.6133],\n",
      "        [ 1.1836]])]\n"
     ]
    }
   ],
   "source": [
    "import numpy as np\n",
    "import torch\n",
    "from torch.utils import data\n",
    "from d2l import torch as d2l\n",
    "\n",
    "#1 生成数据集\n",
    "true_w = torch.tensor([2, -3.4])\n",
    "true_b = 4.2\n",
    "features, labels = d2l.synthetic_data(true_w, true_b, 1000) #生成方式为y = Xw + b + e，e为噪声默认为服从N(0,1)的正态分布\n",
    "\n",
    "\n",
    "#2 读取数据集\n",
    "def load_array(data_arrays, batch_size, is_train=True):  #@save\n",
    "    \"\"\"构造一个PyTorch数据迭代器。\"\"\"\n",
    "    dataset = data.TensorDataset(*data_arrays)\n",
    "    return data.DataLoader(dataset, batch_size, shuffle=is_train)\n",
    "batch_size = 10\n",
    "data_iter = load_array((features, labels), batch_size)\n",
    "print(next(iter(data_iter)))\n",
    "\n",
    "#3 定义模型\n",
    "from torch import nn\n",
    "net = nn.Sequential(nn.Linear(2, 1))\n",
    "\n",
    "#4 初始化模型参数\n",
    "net[0].weight.data.normal_(0, 0.01) #将第一层的权重初始化为均值为0，标准差为0.01的正态分布\n",
    "net[0].bias.data.fill_(0) #将偏置初始化为0\n",
    "\n",
    "#5 定义损失函数\n",
    "loss = nn.MSELoss() #均方误差损失函数\n",
    "\n",
    "#6 定义优化算法\n",
    "trainer = torch.optim.SGD(net.parameters(), lr=0.03)"
   ]
  },
  {
   "cell_type": "markdown",
   "metadata": {},
   "source": [
    "## 2.7 训练\n",
    "- 重复以下训练，知道完成：\n",
    "    - net(x)生成预测并计算损失l（正向传播）\n",
    "    - backward()计算梯度（反向传播）\n",
    "    - 优化器更新模型参数"
   ]
  },
  {
   "cell_type": "code",
   "execution_count": 2,
   "metadata": {},
   "outputs": [
    {
     "name": "stdout",
     "output_type": "stream",
     "text": [
      "epoch 1, loss 0.000270\n",
      "epoch 2, loss 0.000103\n",
      "epoch 3, loss 0.000103\n",
      "w的估计误差： tensor([-0.0003, -0.0005])\n",
      "b的估计误差： tensor([0.0007])\n"
     ]
    }
   ],
   "source": [
    "#1 超参数\n",
    "num_epochs = 3\n",
    "\n",
    "#2 训练\n",
    "for epoch in range(num_epochs):\n",
    "    for X,y in data_iter:\n",
    "        l = loss(net(X),y) #l是小批量X和y的损失\n",
    "        trainer.zero_grad()\n",
    "        l.backward()\n",
    "        trainer.step() #更新模型参数\n",
    "    l = loss(net(features),labels) #整个数据集的损失\n",
    "    print(f'epoch {epoch + 1}, loss {l:f}')\n",
    "\n",
    "#3 检验\n",
    "w = net[0].weight.data\n",
    "print('w的估计误差：', true_w - w.reshape(true_w.shape))\n",
    "b = net[0].bias.data\n",
    "print('b的估计误差：',true_b-b)"
   ]
  }
 ],
 "metadata": {
  "kernelspec": {
   "display_name": "d2l",
   "language": "python",
   "name": "python3"
  },
  "language_info": {
   "codemirror_mode": {
    "name": "ipython",
    "version": 3
   },
   "file_extension": ".py",
   "mimetype": "text/x-python",
   "name": "python",
   "nbconvert_exporter": "python",
   "pygments_lexer": "ipython3",
   "version": "3.9.18"
  }
 },
 "nbformat": 4,
 "nbformat_minor": 2
}

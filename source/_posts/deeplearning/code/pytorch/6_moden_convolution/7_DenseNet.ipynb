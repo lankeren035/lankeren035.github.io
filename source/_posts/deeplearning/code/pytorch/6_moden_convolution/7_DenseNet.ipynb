{
 "cells": [
  {
   "cell_type": "markdown",
   "metadata": {},
   "source": [
    "---\n",
    "title: 6.7 稠密连接网络（DenseNet）\n",
    "date: 2024-4-28 14:00:00\n",
    "tags: [机器学习,pytorch]\n",
    "categories: [机器学习]\n",
    "comment: true\n",
    "toc: true\n",
    "---\n",
    "#\n",
    "<!--more-->\n",
    "# 7 稠密连接网络（DenseNet）\n",
    "- ResNet极大地改变了如何参数化深层网络中函数的观点。稠密连接网络（DenseNet）在某种程度上是ResNet的逻辑扩展。\n",
    "## 7.1 从ResNet到DenseNet"
   ]
  }
 ],
 "metadata": {
  "language_info": {
   "name": "python"
  }
 },
 "nbformat": 4,
 "nbformat_minor": 2
}

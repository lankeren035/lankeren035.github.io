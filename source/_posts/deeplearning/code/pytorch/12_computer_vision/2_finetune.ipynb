{
 "cells": [
  {
   "cell_type": "markdown",
   "metadata": {},
   "source": [
    "---\n",
    "title: 12.2 微调\n",
    "date: 2024-8-12 12:00:00\n",
    "tags: [机器学习,pytorch]\n",
    "categories: [机器学习]\n",
    "comment: true\n",
    "toc: true\n",
    "---\n",
    "\n",
    "#### \n",
    "\n",
    "<!--more-->\n",
    "\n",
    "# 2 微调\n",
    "\n"
   ]
  }
 ],
 "metadata": {
  "language_info": {
   "name": "python"
  }
 },
 "nbformat": 4,
 "nbformat_minor": 2
}

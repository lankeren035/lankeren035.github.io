{
 "cells": [
  {
   "cell_type": "markdown",
   "metadata": {},
   "source": [
    "---\n",
    "title: 3.7 前向传播、反向传播和计算图\n",
    "date: 2024-2-7 14:00:00\n",
    "tags: [机器学习,pytorch]\n",
    "categories: [机器学习]\n",
    "comment: true\n",
    "toc: true\n",
    "---\n",
    "#\n",
    "<!--more-->\n",
    "# 7 前向传播、反向传播和计算图\n",
    "- 以带dropout的单层隐藏层mlp为例\n",
    "## 7.1 前向传播\n",
    "- 按顺序（从输入层到输出层）计算和存储神经网络中每层的结果s。\n",
    "    - 1）输入是$\\mathbf{x} \\in \\mathbb{R}^d$，隐藏层不含偏置,得到中间变量：\n",
    "$$\\mathbf{z}=\\mathbf{W}^{(1)}\\mathbf{x}$$\n",
    "    - 2）激活：\n",
    "    $$\\mathbf{h}=\\phi"
   ]
  }
 ],
 "metadata": {
  "language_info": {
   "name": "python"
  }
 },
 "nbformat": 4,
 "nbformat_minor": 2
}
